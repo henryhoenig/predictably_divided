{
 "cells": [
  {
   "cell_type": "code",
   "execution_count": 1,
   "id": "recent-recall",
   "metadata": {},
   "outputs": [],
   "source": [
    "import pandas as pd\n",
    "import numpy as np\n",
    "import matplotlib.pyplot as plt\n",
    "%matplotlib notebook\n",
    "plt.style.use('ggplot')\n",
    "from sklearn.datasets import make_hastie_10_2\n",
    "from sklearn.ensemble import GradientBoostingClassifier\n",
    "from sklearn.model_selection import KFold, StratifiedKFold\n",
    "from sklearn.model_selection import cross_val_score\n",
    "from sklearn.model_selection import train_test_split\n",
    "from sklearn.preprocessing import OneHotEncoder\n",
    "from sklearn.inspection import permutation_importance\n",
    "from sklearn.metrics import mean_squared_error\n",
    "import matplotlib.style as style\n",
    "\n",
    "from sklearn.metrics import precision_score\n",
    "\n",
    "from sklearn.model_selection import GridSearchCV\n",
    "from sklearn.metrics import mean_squared_error, r2_score\n",
    "from sklearn.inspection import partial_dependence, plot_partial_dependence\n",
    "from sklearn.metrics import confusion_matrix\n",
    "from sklearn.metrics import plot_confusion_matrix\n",
    "\n",
    "import textwrap # for wrapping answer descriptions\n",
    "# from individual_soln import * # use functions from individual_soln.py"
   ]
  },
  {
   "cell_type": "code",
   "execution_count": 2,
   "id": "composite-print",
   "metadata": {},
   "outputs": [
    {
     "name": "stderr",
     "output_type": "stream",
     "text": [
      "/Users/henryhoenig/opt/anaconda3/lib/python3.7/site-packages/ipykernel_launcher.py:4: FutureWarning: Passing a negative integer is deprecated in version 1.0 and will not be supported in future version. Instead, use None to not limit the column width.\n",
      "  after removing the cwd from sys.path.\n"
     ]
    }
   ],
   "source": [
    "pd.set_option('display.max_rows', None)\n",
    "pd.set_option('display.max_columns', None)\n",
    "pd.set_option('display.width', None)\n",
    "pd.set_option('display.max_colwidth', -1)"
   ]
  },
  {
   "cell_type": "code",
   "execution_count": 3,
   "id": "gorgeous-feeding",
   "metadata": {},
   "outputs": [],
   "source": [
    "df = pd.read_stata('data/anes_timeseries_2020_stata_20210324.dta')"
   ]
  },
  {
   "cell_type": "code",
   "execution_count": 7,
   "id": "verified-wildlife",
   "metadata": {},
   "outputs": [
    {
     "name": "stdout",
     "output_type": "stream",
     "text": [
      "438\n"
     ]
    }
   ],
   "source": [
    "counter = 0\n",
    "for i in range(len(df)):\n",
    "    if df['V202326'].iloc[i] == '3. Neither approve nor disapprove' and (df['V202073'].iloc[i] == '1. Joe Biden' or df['V201029'].iloc[i] == '1. Joe Biden'):\n",
    "        counter +=1 \n",
    "print(counter)"
   ]
  },
  {
   "cell_type": "code",
   "execution_count": 13,
   "id": "optimum-sudan",
   "metadata": {},
   "outputs": [
    {
     "data": {
      "text/plain": [
       "1. Approve                                                        0.439855\n",
       "2. Disapprove                                                     0.279348\n",
       "3. Neither approve nor disapprove                                 0.173551\n",
       "-6. No post-election interview                                    0.090580\n",
       "-7. No post-election data, deleted due to incomplete interview    0.009300\n",
       "-5. Interview breakoff (sufficient partial IW)                    0.006159\n",
       "-9. Refused                                                       0.000725\n",
       "-8. Don't know                                                    0.000483\n",
       "Name: V202326, dtype: float64"
      ]
     },
     "execution_count": 13,
     "metadata": {},
     "output_type": "execute_result"
    }
   ],
   "source": [
    "df['V202326'].value_counts('1. Approve')"
   ]
  },
  {
   "cell_type": "code",
   "execution_count": null,
   "id": "medical-keyboard",
   "metadata": {},
   "outputs": [],
   "source": [
    "# 178 people approved of ACA but voted for Trump\n",
    "# 529 were Neither approve nor disapprove and voted for Trump\n",
    "# 118 disapproved and voted for Biden\n",
    "# 438 neither approved nor disapproved and voted Biden\n",
    "\n",
    "# 7396 people offered response (incl don't know, neither)\n",
    "# 44% - 3642 people said they approved\n",
    "# Only 4.9% of those who approved voted for Trump\n",
    "# 27% disapproved - 2313 people\n",
    "# 5.1% of those who disapproved voted for Biden\n",
    "\n",
    "# 1. Approve                                                        3642\n",
    "# 2. Disapprove                                                     2313\n",
    "# 3. Neither approve nor disapprove                                 1437\n",
    "# -6. No post-election interview                                    750 \n",
    "# -7. No post-election data, deleted due to incomplete interview    77  \n",
    "# -5. Interview breakoff (sufficient partial IW)                    51  \n",
    "# -9. Refused                                                       6   \n",
    "# -8. Don't know                                                    4   \n",
    "# Name: V202326, dtype: int64"
   ]
  },
  {
   "cell_type": "code",
   "execution_count": 17,
   "id": "found-enzyme",
   "metadata": {},
   "outputs": [
    {
     "name": "stdout",
     "output_type": "stream",
     "text": [
      "54\n"
     ]
    }
   ],
   "source": [
    "counter = 0\n",
    "for i in range(len(df)):\n",
    "    if df['V201384'].iloc[i] == '1. Favor' and (df['V202073'].iloc[i] == '2. Donald Trump' or df['V201029'].iloc[i] == '2. Donald Trump'):\n",
    "        counter +=1 \n",
    "print(counter)"
   ]
  },
  {
   "cell_type": "code",
   "execution_count": 15,
   "id": "accurate-jenny",
   "metadata": {},
   "outputs": [
    {
     "data": {
      "text/plain": [
       "1. Favor                       3725\n",
       "2. Oppose                      3301\n",
       "3. Neither favor nor oppose    1213\n",
       "-9. Refused                    36  \n",
       "-8. Don't know                 5   \n",
       "Name: V201384, dtype: int64"
      ]
     },
     "execution_count": 15,
     "metadata": {},
     "output_type": "execute_result"
    }
   ],
   "source": [
    "df['V201384'].value_counts()"
   ]
  },
  {
   "cell_type": "code",
   "execution_count": null,
   "id": "prospective-thread",
   "metadata": {},
   "outputs": [],
   "source": [
    "# df['V201384'].value_counts()\n",
    "# 1. Favor                       3725\n",
    "# 2. Oppose                      3301\n",
    "# 3. Neither favor nor oppose    1213\n",
    "# -9. Refused                    36  \n",
    "# -8. Don't know                 5   \n",
    "# Name: V201384, dtype: int64\n",
    "        \n",
    "        \n",
    "# 2923 favored House impeachment and voted for Biden (78% of those who favored)\n",
    "# 212 opposed House impeachment and voted for Biden (6.4% of those who opposed)\n",
    "# 54 people favored House impeachment and voted for Trump (1.4% of those who favored)"
   ]
  },
  {
   "cell_type": "code",
   "execution_count": 23,
   "id": "rapid-passenger",
   "metadata": {},
   "outputs": [
    {
     "name": "stdout",
     "output_type": "stream",
     "text": [
      "168\n"
     ]
    }
   ],
   "source": [
    "counter = 0\n",
    "for i in range(len(df)):\n",
    "    if df['V201387'].iloc[i] == '1. Favor' and (df['V202073'].iloc[i] == '1. Joe Biden' or df['V201029'].iloc[i] == '1. Joe Biden'):\n",
    "        counter +=1 \n",
    "print(counter)"
   ]
  },
  {
   "cell_type": "code",
   "execution_count": 20,
   "id": "early-thanks",
   "metadata": {},
   "outputs": [
    {
     "data": {
      "text/plain": [
       "2. Oppose                      3699\n",
       "1. Favor                       3113\n",
       "3. Neither favor nor oppose    1422\n",
       "-9. Refused                    40  \n",
       "-8. Don't know                 6   \n",
       "Name: V201387, dtype: int64"
      ]
     },
     "execution_count": 20,
     "metadata": {},
     "output_type": "execute_result"
    }
   ],
   "source": [
    "df['V201387'].value_counts()"
   ]
  },
  {
   "cell_type": "code",
   "execution_count": 24,
   "id": "senior-chair",
   "metadata": {},
   "outputs": [],
   "source": [
    "# 2. Oppose                      3699\n",
    "# 1. Favor                       3113\n",
    "# 3. Neither favor nor oppose    1422\n",
    "# -9. Refused                    40  \n",
    "# -8. Don't know                 6   \n",
    "# Name: V201387, dtype: int64\n",
    "        \n",
    "# 2217 favored Senate acquittal and voted for Trump (71% of those who favored)\n",
    "# 96 opposed Senate acquittal and voted for Trump (2.6%)\n",
    "# 2869 opposed Senate acquittal and voted for Biden (77%)\n",
    "# 168 favored acquittal and voted for Biden (5.3%)"
   ]
  },
  {
   "cell_type": "code",
   "execution_count": 29,
   "id": "defensive-immigration",
   "metadata": {},
   "outputs": [
    {
     "name": "stdout",
     "output_type": "stream",
     "text": [
      "142\n"
     ]
    }
   ],
   "source": [
    "counter = 0\n",
    "for i in range(len(df)):\n",
    "    if df['V201424'].iloc[i] == '2. Oppose' and (df['V202073'].iloc[i] == '2. Donald Trump' or df['V201029'].iloc[i] == '2. Donald Trump'):\n",
    "        counter +=1 \n",
    "print(counter)"
   ]
  },
  {
   "cell_type": "code",
   "execution_count": 26,
   "id": "greek-times",
   "metadata": {},
   "outputs": [
    {
     "data": {
      "text/plain": [
       "2. Oppose                      3788\n",
       "1. Favor                       2983\n",
       "3. Neither favor nor oppose    1472\n",
       "-9. Refused                    32  \n",
       "-8. Don't know                 5   \n",
       "Name: V201424, dtype: int64"
      ]
     },
     "execution_count": 26,
     "metadata": {},
     "output_type": "execute_result"
    }
   ],
   "source": [
    "df['V201424'].value_counts()"
   ]
  },
  {
   "cell_type": "code",
   "execution_count": null,
   "id": "serial-factor",
   "metadata": {},
   "outputs": [],
   "source": [
    "# # 2. Oppose                      3788\n",
    "# # 1. Favor                       2983\n",
    "# # 3. Neither favor nor oppose    1472\n",
    "# # -9. Refused                    32  \n",
    "# # -8. Don't know                 5   \n",
    "# # Name: V201424, dtype: int64\n",
    "        \n",
    "\n",
    "# 224 people who favored border wall voted Biden (7.5% of those who favored)\n",
    "# 2779 who oppose voted Biden (73%)\n",
    "# only 142 who opposed border wall voted for Trump (3.7%)"
   ]
  },
  {
   "cell_type": "code",
   "execution_count": 30,
   "id": "sharing-colony",
   "metadata": {},
   "outputs": [
    {
     "name": "stdout",
     "output_type": "stream",
     "text": [
      "123\n"
     ]
    }
   ],
   "source": [
    "counter = 0\n",
    "for i in range(len(df)):\n",
    "    if df['V202527'].iloc[i] == '5. None at all' and (df['V202073'].iloc[i] == '2. Donald Trump' or df['V201029'].iloc[i] == '2. Donald Trump'):\n",
    "        counter +=1 \n",
    "print(counter)"
   ]
  },
  {
   "cell_type": "code",
   "execution_count": 31,
   "id": "alternative-general",
   "metadata": {},
   "outputs": [
    {
     "data": {
      "text/plain": [
       "3. A moderate amount                                              2081\n",
       "2. A lot                                                          2069\n",
       "1. A great deal                                                   1860\n",
       "4. A little                                                       1086\n",
       "-6. No post-election interview                                    750 \n",
       "5. None at all                                                    188 \n",
       "-5. Interview breakoff (sufficient partial IW)                    97  \n",
       "-7. No post-election data, deleted due to incomplete interview    77  \n",
       "-9. Refused                                                       72  \n",
       "Name: V202527, dtype: int64"
      ]
     },
     "execution_count": 31,
     "metadata": {},
     "output_type": "execute_result"
    }
   ],
   "source": [
    "df['V202527'].value_counts()"
   ]
  },
  {
   "cell_type": "code",
   "execution_count": null,
   "id": "dressed-filing",
   "metadata": {},
   "outputs": [],
   "source": [
    "sorted_idx = result.importances_mean.argsort()\n",
    "plt.subplot(1, 2, 2)\n",
    "plt.boxplot(result.importances[sorted_idx].T,\n",
    "            vert=False, labels=np.array(diabetes.feature_names)[sorted_idx])"
   ]
  }
 ],
 "metadata": {
  "kernelspec": {
   "display_name": "Python 3",
   "language": "python",
   "name": "python3"
  },
  "language_info": {
   "codemirror_mode": {
    "name": "ipython",
    "version": 3
   },
   "file_extension": ".py",
   "mimetype": "text/x-python",
   "name": "python",
   "nbconvert_exporter": "python",
   "pygments_lexer": "ipython3",
   "version": "3.7.7"
  }
 },
 "nbformat": 4,
 "nbformat_minor": 5
}
